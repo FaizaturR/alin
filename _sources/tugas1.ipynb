{
 "cells": [
  {
   "cell_type": "markdown",
   "metadata": {},
   "source": [
    "# Sistem Linier"
   ]
  },
  {
   "cell_type": "markdown",
   "metadata": {},
   "source": [
    "Sistem linier merupakan sekumpulan persamaan linier yang terdiri dari beberapa variabel. yang dapat ditulis sebagai berikut : \n",
    "\n",
    "3x + 2y - z = 1\n",
    "\n",
    "2x - 2y + 4z = -2\n",
    "\n",
    "Pada sistem di atas terdiri dari tiga variabel x, y, z. Kata \"sistem\" disini penting karena menunjukkan bahwa persamaan-persamaannya saling berkaitan dan tidak dapat dipisahkan. Nilai variabel-variabel dalam sistem ditemtukan secara bersamaan bukan secara individual.\n",
    "\n",
    "Ada tiga kemungkinan solusi yang dapat terjadi pada sistem persamaan linier :\n",
    "\n",
    "### 1. Mempunyai solusi tunggal\n",
    "#### Contoh : \n",
    "Pada persamaan ini, Sistem persamaan linier (SPL) memiliki satu solusi yang dapat memenuhi semua persamaan dalam sistem. Solusi ini dapat direpresentasikan sebagai nilai unik untuk setiap variabel (x, y, z, dst.).\n",
    "\n",
    "x + y = 2\n",
    "\n",
    "2x - y = 1\n",
    "\n",
    "\n",
    "### 2. Mempunyai banyak solusi\n",
    "#### Contoh :\n",
    "kasus ini terjadi ketika Sistem Persamaan Linier (SPL) memiliki solusi tak terhingga banyaknya. Artinya terdapat banyak kombinasi nilai variabel yang memenuhi semua persamaan pada sistem. Solusi ini dapat direpresentasikan sebagai himpunan solusi, dimana setiap elemennya adalah kombinasi nilai variabel yang memenuhi Sistem Persamaan Linier.\n",
    "\n",
    "x + y = 2\n",
    "\n",
    "2x + 2y = 4\n",
    "\n",
    "nilai x dan y dapat berupa bilangan real apa pun asalkan memenuhi persamaan x + y = 2\n",
    "\n",
    "### 3. Tidak mempunyai solusi\n",
    "#### Contoh :\n",
    "Kasus ini terjadi ketika tidak ada kombinasi nilai variabel yang memenuhi semua persamaan dalam sistem. Sistem Persamaan Linier ini disebut inkonsisten karena tidak memiliki solusi yang valid.\n",
    "\n",
    "x + y = 2\n",
    "\n",
    "2x + y = 3\n",
    "\n",
    "Pada persamaan diatas tidak memiliki solusi karena tidak ada nilai x dan y yang dapat memenuhi kedua persamaan secara bersamaan.\n"
   ]
  },
  {
   "cell_type": "markdown",
   "metadata": {},
   "source": [
    "## Operasi Baris dan Eliminasi\n",
    "\n",
    "Eliminasi merupakan menukar sistem yang ada dengan sistem lain yang juga memiliki penyelesaian yang sama.\n",
    "\n",
    "kita buat array numpy dan akan diberi nama pada array A sehingga kita dapat melihatnya nanti. "
   ]
  },
  {
   "cell_type": "code",
   "execution_count": 1,
   "metadata": {},
   "outputs": [
    {
     "name": "stdout",
     "output_type": "stream",
     "text": [
      "[[ 8  9  1 19]\n",
      " [ 1  2  3  9]\n",
      " [ 2  1  1  5]]\n"
     ]
    }
   ],
   "source": [
    "import numpy as np \n",
    "\n",
    "A = np.array ([[8,9,1,19],[1,2,3,9],[2,1,1,5]])\n",
    "print(A)"
   ]
  },
  {
   "cell_type": "markdown",
   "metadata": {},
   "source": [
    "Kemudian kita akan memulai operasi pada array ini. akan tetapi sebelumnya kita akan menulis code python yang akan digunakan selama perhitungan nanti."
   ]
  },
  {
   "cell_type": "code",
   "execution_count": 2,
   "metadata": {},
   "outputs": [],
   "source": [
    "import numpy as np\n",
    "\n",
    "def RowSwap(A,k,l):\n",
    "# =============================================================================\n",
    "#     A is a NumPy array.  RowSwap will return duplicate array with rows\n",
    "#     k and l swapped.\n",
    "# =============================================================================\n",
    "    m = A.shape[0]  # m is number of rows in A\n",
    "    n = A.shape[1]  # n is number of columns in A\n",
    "\n",
    "    B = np.copy(A).astype('float64')\n",
    "\n",
    "    for j in range(n):\n",
    "        temp = B[k][j]\n",
    "        B[k][j] = B[l][j]\n",
    "        B[l][j] = temp\n",
    "\n",
    "    return B\n",
    "\n",
    "def RowScale(A,k,scale):\n",
    "# =============================================================================\n",
    "#     A is a NumPy array.  RowScale will return duplicate array with the\n",
    "#     entries of row k multiplied by scale.\n",
    "# =============================================================================\n",
    "    m = A.shape[0]  # m is number of rows in A\n",
    "    n = A.shape[1]  # n is number of columns in A\n",
    "\n",
    "    B = np.copy(A).astype('float64')\n",
    "\n",
    "    for j in range(n):\n",
    "        B[k][j] *= scale\n",
    "\n",
    "    return B\n",
    "\n",
    "def RowAdd(A,k,l,scale):\n",
    "# =============================================================================\n",
    "#     A is a numpy array.  RowAdd will return duplicate array with row\n",
    "#     l modifed.  The new values will be the old values of row l added to\n",
    "#     the values of row k, multiplied by scale.\n",
    "# =============================================================================\n",
    "    m = A.shape[0]  # m is number of rows in A\n",
    "    n = A.shape[1]  # n is number of columns in A\n",
    "\n",
    "    B = np.copy(A).astype('float64')\n",
    "\n",
    "    for j in range(n):\n",
    "        B[l][j] += B[k][j]*scale\n",
    "\n",
    "    return B"
   ]
  },
  {
   "cell_type": "markdown",
   "metadata": {},
   "source": [
    "Pertama menukan baris pertama dengan baris kedua matriks, Sehingga :"
   ]
  },
  {
   "cell_type": "code",
   "execution_count": 3,
   "metadata": {},
   "outputs": [
    {
     "name": "stdout",
     "output_type": "stream",
     "text": [
      "[[ 1.  2.  3.  9.]\n",
      " [ 8.  9.  1. 19.]\n",
      " [ 2.  1.  1.  5.]]\n"
     ]
    }
   ],
   "source": [
    "A1 = RowSwap(A,0,1)\n",
    "print(A1)"
   ]
  },
  {
   "cell_type": "code",
   "execution_count": 4,
   "metadata": {},
   "outputs": [
    {
     "name": "stdout",
     "output_type": "stream",
     "text": [
      "[[  1.   2.   3.   9.]\n",
      " [  0.  -7. -23. -53.]\n",
      " [  2.   1.   1.   5.]]\n"
     ]
    }
   ],
   "source": [
    "# Menambahkan -8 kali baris 0 ke baris 1\n",
    "A2 = RowAdd(A1,0,1,-8)\n",
    "print(A2)"
   ]
  },
  {
   "cell_type": "code",
   "execution_count": 5,
   "metadata": {},
   "outputs": [
    {
     "name": "stdout",
     "output_type": "stream",
     "text": [
      "[[  1.   2.   3.   9.]\n",
      " [  0.  -7. -23. -53.]\n",
      " [  0.  -3.  -5. -13.]]\n"
     ]
    }
   ],
   "source": [
    "# Menambahkan -2 kali balis 0 ke baris 2\n",
    "A3 = RowAdd(A2,0,2,-2)\n",
    "print(A3)"
   ]
  },
  {
   "cell_type": "code",
   "execution_count": 6,
   "metadata": {},
   "outputs": [
    {
     "name": "stdout",
     "output_type": "stream",
     "text": [
      "[[  1.           2.           3.           9.        ]\n",
      " [ -0.           1.           3.28571429   7.57142857]\n",
      " [  0.          -3.          -5.         -13.        ]]\n"
     ]
    }
   ],
   "source": [
    "# Mengalikan baris 1 dengan -1/7\n",
    "A4 = RowScale(A3,1,-1/7)\n",
    "print(A4)"
   ]
  },
  {
   "cell_type": "code",
   "execution_count": 7,
   "metadata": {},
   "outputs": [
    {
     "name": "stdout",
     "output_type": "stream",
     "text": [
      "[[ 1.          2.          3.          9.        ]\n",
      " [-0.          1.          3.28571429  7.57142857]\n",
      " [ 0.          0.          4.85714286  9.71428571]]\n"
     ]
    }
   ],
   "source": [
    "# Menambahkan 3 kali baris 1 ke baris 2\n",
    "A5 = RowAdd(A4,1,2,3)\n",
    "print(A5)"
   ]
  },
  {
   "cell_type": "code",
   "execution_count": 8,
   "metadata": {},
   "outputs": [
    {
     "name": "stdout",
     "output_type": "stream",
     "text": [
      "[[ 1.          2.          3.          9.        ]\n",
      " [-0.          1.          3.28571429  7.57142857]\n",
      " [ 0.          0.          1.          2.        ]]\n"
     ]
    }
   ],
   "source": [
    "# Mengalikan Baris 2 dengan 1/4.85714286\n",
    "A6 = RowScale(A5,2,1/4.85714286)\n",
    "print(A6)"
   ]
  }
 ],
 "metadata": {
  "kernelspec": {
   "display_name": "Python 3 (ipykernel)",
   "language": "python",
   "name": "python3"
  },
  "widgets": {
   "application/vnd.jupyter.widget-state+json": {
    "state": {},
    "version_major": 2,
    "version_minor": 0
   }
  }
 },
 "nbformat": 4,
 "nbformat_minor": 4
}
