{
 "cells": [
  {
   "cell_type": "markdown",
   "metadata": {},
   "source": [
    "# Konsep EigenValue dan EigenVector\n",
    "\n",
    "Ketika terdapat matriks bujur sangkar A dengan derajat n. Jika terdapat vector tidak nol x dan skalar $\\lambda$ sehingga \n",
    "\n",
    "$$Ax = \\lambda x$$\n",
    "\n",
    "maka $\\lambda$ disebut EigenValue dari matriks A, dan X disebut EigenVector, sedangkan yang lainnya bersesuai dengan EigenValue $\\lambda$.\n",
    "\n",
    "untuk menemukan EigenValue, harus menyesuaikan :\n",
    "\n",
    "$$det(A-\\lambda)=0$$\n",
    "\n",
    "Setelah mendapatkan $\\lambda$, substitusikan kembali ke persamaan $(A-\\lambda)x = 0$ untuk menemukan vector x."
   ]
  },
  {
   "cell_type": "markdown",
   "metadata": {},
   "source": [
    "## Contoh Hitung EigenValue dan EigenVector menggunakan Numpy\n",
    "\n",
    "### Matriks 2 x 2"
   ]
  },
  {
   "cell_type": "code",
   "execution_count": 1,
   "metadata": {},
   "outputs": [
    {
     "name": "stdout",
     "output_type": "stream",
     "text": [
      "[[1 4]\n",
      " [2 3]] \n",
      "\n",
      "[-1.  5.] \n",
      "\n",
      "[[-0.89442719 -0.70710678]\n",
      " [ 0.4472136  -0.70710678]]\n"
     ]
    }
   ],
   "source": [
    "import numpy as np\n",
    "from numpy.linalg import eig\n",
    "A= np.array ([[1,4],[2,3]])\n",
    "w,v = eig(A)\n",
    "print(A,'\\n')\n",
    "print(w,'\\n')\n",
    "print(v)"
   ]
  },
  {
   "cell_type": "markdown",
   "metadata": {},
   "source": [
    "### Matriks 3 X 3"
   ]
  },
  {
   "cell_type": "code",
   "execution_count": 2,
   "metadata": {},
   "outputs": [
    {
     "name": "stdout",
     "output_type": "stream",
     "text": [
      "[[1 4 1]\n",
      " [2 3 2]\n",
      " [2 4 5]] \n",
      "\n",
      "E-value [ 8. -1.  2.] \n",
      "\n",
      "E-value [[-0. -1. -1.]\n",
      " [-0.  0. -0.]\n",
      " [-1.  0.  1.]] \n",
      "\n"
     ]
    }
   ],
   "source": [
    "import numpy as np\n",
    "from numpy.linalg import eig\n",
    "\n",
    "# Matriks 3x3\n",
    "A = np.array([[1,4,1],[2,3,2],[2,4,5]])\n",
    "\n",
    "# Menghitung eigenvalue dan eigenvector\n",
    "w,v = eig(A)\n",
    "\n",
    "print(A, '\\n')\n",
    "print('E-value', w.round(), '\\n')\n",
    "print('E-value', v.round(), '\\n')"
   ]
  },
  {
   "cell_type": "markdown",
   "metadata": {},
   "source": [
    "# Implementasi EigenValue dan EigenVector\n",
    "\n",
    "### Implementasi PCA melalui EVD dengan python:"
   ]
  },
  {
   "cell_type": "code",
   "execution_count": 7,
   "metadata": {},
   "outputs": [
    {
     "name": "stdout",
     "output_type": "stream",
     "text": [
      "Matriks:\n",
      " [[1 4]\n",
      " [2 3]] \n",
      "\n",
      "Komponen utama:\n",
      " [[-1.  0.]\n",
      " [ 1. -0.]] \n",
      "\n",
      "Eigenvalue:\n",
      " [1. 0.]\n"
     ]
    }
   ],
   "source": [
    "import numpy as np\n",
    "\n",
    "def pcaSVD(X):\n",
    "    n, p = X.shape\n",
    "    X_centered = X - X.mean(axis=0)  # Pusatkan data\n",
    "\n",
    "    u, sigma, vt = np.linalg.svd(X_centered, full_matrices=False)\n",
    "\n",
    "    # Mengembalikan komponen utama dan eigenvalue\n",
    "    return (X_centered @ vt.T), (sigma**2) / (n-1)\n",
    "\n",
    "# Contoh Data\n",
    "x = np.array([[1, 4], [2, 3]])\n",
    "\n",
    "komponen_utama, eigenvalue = pcaSVD(x)\n",
    "print(\"Matriks:\\n\",x,'\\n')\n",
    "print(\"Komponen utama:\\n\", komponen_utama.round(),'\\n')\n",
    "print(\"Eigenvalue:\\n\", eigenvalue.round())\n"
   ]
  }
 ],
 "metadata": {
  "kernelspec": {
   "display_name": "Python 3 (ipykernel)",
   "language": "python",
   "name": "python3"
  }
 },
 "nbformat": 4,
 "nbformat_minor": 2
}
