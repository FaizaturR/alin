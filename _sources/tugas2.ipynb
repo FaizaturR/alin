{
 "cells": [
  {
   "cell_type": "markdown",
   "metadata": {},
   "source": [
    "# Aljabar Matriks\n",
    "Matriks merupakan susunan bilangan yang diatur menurut baris dan kolom, dan ditempatkan dalam tanda kurung siku."
   ]
  },
  {
   "cell_type": "code",
   "execution_count": 1,
   "metadata": {},
   "outputs": [
    {
     "name": "stdout",
     "output_type": "stream",
     "text": [
      "[[ 5  7 -7]\n",
      " [-3  5  9]]\n"
     ]
    }
   ],
   "source": [
    "# membuat matriks secara manual\n",
    "import numpy as np\n",
    "A = np.array([[1,2,3],[4,5,6],[8,7,6]])\n",
    "B = np.array([[8,5,7],[3,8,6],[4,9,7]])\n",
    "C = np.array([[5,7,-7],[-3,5,9],])\n",
    "D = np.array([[8,7,5],[4,-9,10],[8,3,1]])\n",
    "print(C)"
   ]
  },
  {
   "cell_type": "code",
   "execution_count": 2,
   "metadata": {},
   "outputs": [
    {
     "name": "stdout",
     "output_type": "stream",
     "text": [
      "[[2 1 3]\n",
      " [8 9 3]\n",
      " [8 6 0]]\n"
     ]
    }
   ],
   "source": [
    "# Cara membuat matriks random dan lebih cepat\n",
    "A = np.random.randint(10,size=(3,3))\n",
    "print(A)"
   ]
  },
  {
   "cell_type": "markdown",
   "metadata": {},
   "source": [
    "## Operasi Matriks\n",
    "Aljabar Matriks melibatkan operasi matriks, seperti penjumlahan, pengurangan, perkalian dll.\n",
    "\n",
    "Mari kita pahami pengoperasian matriks.\n",
    "\n",
    "### Penjumlahan / Pengurangan Matriks\n",
    "Dua matriks dapat dijumlahkan/dikurangi jika dan hanya jika jumlah baris dan kolom kedua matriks tersebut sama, atau ordo matriksnya sama. \n",
    "Untuk Penjumlahan/pengurangan, setiap elemen matriks pertama ditambahkan/dikurangi dengan elemen-elemen yang ada pada matriks kedua.\n",
    "#### Contoh :\n",
    "$\n",
    "\\begin{bmatrix}\n",
    "2 & 0 & 5 \\\\\n",
    "3 & 2 & 9\n",
    "\\end{bmatrix} + \\begin{bmatrix}\n",
    "7 & 4 & 1 \\\\\n",
    "8 & 13 & 0\n",
    "\\end{bmatrix} = \\begin{bmatrix}\n",
    "9 & 4 & 6 \\\\\n",
    "11 & 15 & 9\n",
    "\\end{bmatrix}\n",
    "$\n"
   ]
  },
  {
   "cell_type": "code",
   "execution_count": 4,
   "metadata": {},
   "outputs": [
    {
     "name": "stdout",
     "output_type": "stream",
     "text": [
      "[[ 9  4  6]\n",
      " [11 15  9]]\n"
     ]
    }
   ],
   "source": [
    "import numpy as np\n",
    "A = np.array([[2,0,5],[3,2,9]])\n",
    "B = np.array([[7,4,1],[8,13,0]])\n",
    "print(A + B)"
   ]
  },
  {
   "cell_type": "markdown",
   "metadata": {},
   "source": [
    "### Perkalian Matriks\n",
    "Matriks dapat dikalikan dengan dua cara \n",
    "\n",
    "1. Perkalian Skalar\n",
    "\n",
    "    Perkalian skalar ini melibatkan besaran skalar dengan matriks. Setiap elemen di dalam matriks harus dikalikan dengan besaran skalar unruk membentuk matriks baru.\n",
    "\n",
    "    $\\\n",
    "    5\\times\\begin{bmatrix}\n",
    "    5&7\\\\ \n",
    "    12&3\\\\ \n",
    "    6&2\\end{bmatrix}=\\begin{bmatrix}\n",
    "    25&35\\\\ \n",
    "    60&15\\\\ \n",
    "    30&10\\end{bmatrix}\n",
    "    $"
   ]
  },
  {
   "cell_type": "code",
   "execution_count": 6,
   "metadata": {},
   "outputs": [
    {
     "name": "stdout",
     "output_type": "stream",
     "text": [
      "[[ 2  4  6]\n",
      " [ 8 10 12]]\n"
     ]
    }
   ],
   "source": [
    "import numpy as np\n",
    "\n",
    "array = np.array([[1, 2, 3], [4, 5, 6]])\n",
    "skalar = 2\n",
    "hasil = skalar * array\n",
    "print(hasil)\n"
   ]
  },
  {
   "cell_type": "markdown",
   "metadata": {},
   "source": [
    "2. Perkalian matriks dengan matriks lain\n",
    "    dua matriks dapat dikalikan jika jumlah kolom matriks pertama sama dengan jumlah baris matriks kedua.\n",
    "    \n",
    "    Perhatikan dua matriks dibawah ini.\n",
    "\n",
    "    $\n",
    "    \\begin{bmatrix}\n",
    "    1 & 2 & 3 \\\\\n",
    "    \\end{bmatrix}\n",
    "    \\times\\begin{bmatrix}\n",
    "    2 & 1 & 3\\\\\n",
    "    3 & 3 & 2\\\\\n",
    "    4 & 1 & 2\n",
    "    \\end{bmatrix} = \\begin{bmatrix}\n",
    "    1.2 + 2.3 + 3.4 & 1.1 + 2.3 + 3.1 & 1.3 + 2.2 + 3.2\\\\\n",
    "    \\end{bmatrix}\n",
    "    $\n",
    "\n",
    "    sehingga :\n",
    "\n",
    "    $\n",
    "    \\begin{bmatrix}\n",
    "    1 & 2 & 3 \\\\\n",
    "    \\end{bmatrix}\n",
    "    \\times\\begin{bmatrix}\n",
    "    2 & 1 & 3\\\\\n",
    "    3 & 3 & 2\\\\\n",
    "    4 & 1 & 2\n",
    "    \\end{bmatrix} = \\begin{bmatrix}\n",
    "    20 & 10 & 13\\\\\n",
    "    \\end{bmatrix}\n",
    "    $\n",
    "\n",
    "    matriks-matriks diatas memenuhi syarat perkalian matriks, sehingga matriks-matriks tersebut dapat dikalikan.\n",
    "\n",
    "\n"
   ]
  },
  {
   "cell_type": "code",
   "execution_count": 8,
   "metadata": {},
   "outputs": [
    {
     "name": "stdout",
     "output_type": "stream",
     "text": [
      "[[20 10 13]]\n"
     ]
    }
   ],
   "source": [
    "import numpy as np\n",
    "\n",
    "A = np.array([[1, 2, 3]])\n",
    "B = np.array([[2,1,3],[3,3,2],[4,1,2]])\n",
    "C = A @ B\n",
    "print(C)\n"
   ]
  },
  {
   "cell_type": "markdown",
   "metadata": {},
   "source": [
    "## Transpose Matriks\n",
    "Transpose matriks adalah proses menukar elemen-elemen baris menjadi kolom dan juga sebaliknya (kolom menjadi baris). Transpose suatu matriks dinotasikan dengan $A^T$,$A'$\n",
    "#### Contoh :\n",
    "\n"
   ]
  },
  {
   "cell_type": "code",
   "execution_count": 9,
   "metadata": {},
   "outputs": [
    {
     "name": "stdout",
     "output_type": "stream",
     "text": [
      "[[1 2 3]]\n",
      "\n",
      "\n",
      "[[1]\n",
      " [2]\n",
      " [3]]\n"
     ]
    }
   ],
   "source": [
    "A_T = A.transpose()\n",
    "print(A)\n",
    "print(\"\\n\")\n",
    "print(A_T)"
   ]
  },
  {
   "cell_type": "markdown",
   "metadata": {},
   "source": [
    "## Matriks Elementer (Kesamaan Dua Matriks)\n",
    "Matriks A dikatakan sama dengan titik matriks B, jika :\n",
    "1. Ordo matriks A sama dengan matriks B\n",
    "2. Semua elemen yang seletak dengan matriks A dan B nilainya sama\n",
    "\n",
    "#### Contoh : \n",
    "$\n",
    "\\begin{bmatrix}\n",
    "3 & 4+1\\\\\n",
    "7 & 9\n",
    "\\end{bmatrix} =\n",
    "\\begin{bmatrix}\n",
    "\\sqrt{9} % 2 \n",
    "& 5\\\\\n",
    "7 & 3^2\n",
    "\\end{bmatrix}\n",
    "$\n",
    "\n",
    "\n",
    "3 seletak dengan $\\sqrt{9} % 2$\n",
    "\n",
    "4 + 1 seletak dengan 5\n",
    "\n",
    "9 seletak dengan $3^2$"
   ]
  }
 ],
 "metadata": {
  "kernelspec": {
   "display_name": "Python 3 (ipykernel)",
   "language": "python",
   "name": "python3"
  }
 },
 "nbformat": 4,
 "nbformat_minor": 2
}
