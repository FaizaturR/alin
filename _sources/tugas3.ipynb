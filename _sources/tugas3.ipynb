{
 "cells": [
  {
   "cell_type": "markdown",
   "metadata": {},
   "source": [
    "# Matriks Invers \n",
    "Matriks invers adalah matriks yang ketika dikalikan dengan A menghasilkan matiks identitas. Matriks invers dilambangkan dengan $A^-1$.\n",
    "Secara sistematis dapat dituliskan dengan :\n",
    "\n",
    "$A^-1$  x  A = I\n",
    "\n",
    "dimana I adalah matriks identitas dengan dimensi yang sama dengan A.\n",
    "\n",
    "\n",
    "## Sifat-sifat matriks Invers\n",
    "Berikut beberapa Sifat-sifat matriks invers :\n",
    "1.\tMatriks invers hanya ada untuk matriks persegi, yaitu    matriks yang memiliki jumlah baris dan kolom yang sama.\n",
    "\n",
    "2. Invers Matriks hanya ada untuk matriks nonsingular, yaitu matriks yang memiliki determinan tidak sama dengan nol\n",
    "\n",
    "3. matriks invers adalah tunggal, yaitu tidak ada lebih dari satu matriks yang dapat menjadi invers dari suatu matriks. jika B dan C keduanya adalah invers dari A, maka B = C"
   ]
  },
  {
   "cell_type": "markdown",
   "metadata": {},
   "source": [
    "## Mencari matriks invers dengan eliminasi Gauss Jordan\n",
    "Metode eliminasi Gauss Jordan merupakan salah satu metode yang umum digunakan untuk mencari matriks invers. metode ini berkerja dengan mengubah matriks A menjadi matriks indentitas (I) menggunakan operasi baris elementer, dan mengubah matriks augmentasi (A | I) menjadi matriks yang berisi matriks invers $A^-1$ disebelah kanan\n",
    "\n",
    "#### Contoh Mencari matriks Invers dengan eliminasi Gauss-Jordan :\n",
    "\n",
    "Misalkan kita ingin mencari matriks invers dari matriks berikut dengan menuliskan matriks A dengan matriks identitas (I) disebelah kanannya"
   ]
  },
  {
   "cell_type": "code",
   "execution_count": 40,
   "metadata": {},
   "outputs": [
    {
     "name": "stdout",
     "output_type": "stream",
     "text": [
      "[[ 2  2  1  1  0  0]\n",
      " [ 4  2  3  0  1  0]\n",
      " [ 1  3 -1  0  0  1]]\n"
     ]
    }
   ],
   "source": [
    "A = np.array([[2,2,1,1,0,0],[4,2,3,0,1,0],[1,3,-1,0,0,1]])\n",
    "print(A)"
   ]
  },
  {
   "cell_type": "code",
   "execution_count": 42,
   "metadata": {},
   "outputs": [
    {
     "name": "stdout",
     "output_type": "stream",
     "text": [
      "[[ 1.   1.   0.5  0.5  0.   0. ]\n",
      " [ 0.   1.  -0.5  1.  -0.5  0. ]\n",
      " [ 0.   0.   1.   5.  -2.  -2. ]]\n"
     ]
    }
   ],
   "source": [
    "import numpy as np\n",
    "\n",
    "def RowSwap(A,k,l):\n",
    "# =============================================================================\n",
    "#     A is a NumPy array.  RowSwap will return duplicate array with rows\n",
    "#     k and l swapped.\n",
    "# =============================================================================\n",
    "    m = A.shape[0]  # m is number of rows in A\n",
    "    n = A.shape[1]  # n is number of columns in A\n",
    "\n",
    "    B = np.copy(A).astype('float64')\n",
    "\n",
    "    for j in range(n):\n",
    "        temp = B[k][j]\n",
    "        B[k][j] = B[l][j]\n",
    "        B[l][j] = temp\n",
    "\n",
    "    return B\n",
    "\n",
    "def RowScale(A,k,scale):\n",
    "# =============================================================================\n",
    "#     A is a NumPy array.  RowScale will return duplicate array with the\n",
    "#     entries of row k multiplied by scale.\n",
    "# =============================================================================\n",
    "    m = A.shape[0]  # m is number of rows in A\n",
    "    n = A.shape[1]  # n is number of columns in A\n",
    "\n",
    "    B = np.copy(A).astype('float64')\n",
    "\n",
    "    for j in range(n):\n",
    "        B[k][j] *= scale\n",
    "\n",
    "    return B\n",
    "\n",
    "def RowAdd(A,k,l,scale):\n",
    "# =============================================================================\n",
    "#     A is a numpy array.  RowAdd will return duplicate array with row\n",
    "#     l modifed.  The new values will be the old values of row l added to\n",
    "#     the values of row k, multiplied by scale.\n",
    "# =============================================================================\n",
    "    m = A.shape[0]  # m is number of rows in A\n",
    "    n = A.shape[1]  # n is number of columns in A\n",
    "\n",
    "    B = np.copy(A).astype('float64')\n",
    "\n",
    "    for j in range(n):\n",
    "        B[l][j] += B[k][j]*scale\n",
    "\n",
    "    return B\n",
    "\n",
    "a = np.array([[1,1,0.5,0.5,0,0],[0,1,-0.5,1,-0.5,0],[0,0,1,5,-2,-2]])\n",
    "print(a)"
   ]
  },
  {
   "cell_type": "code",
   "execution_count": 43,
   "metadata": {},
   "outputs": [
    {
     "name": "stdout",
     "output_type": "stream",
     "text": [
      "[[ 1.   1.   0.5  0.5  0.   0. ]\n",
      " [ 0.   1.  -0.5  1.  -0.5  0. ]\n",
      " [ 0.   0.   0.5  2.5 -1.  -1. ]]\n"
     ]
    }
   ],
   "source": [
    "b = RowScale(a,2,1/2)\n",
    "print(b)"
   ]
  },
  {
   "cell_type": "code",
   "execution_count": 44,
   "metadata": {},
   "outputs": [
    {
     "name": "stdout",
     "output_type": "stream",
     "text": [
      "[[ 1.   1.   0.5  0.5  0.   0. ]\n",
      " [ 0.   1.   0.   3.5 -1.5 -1. ]\n",
      " [ 0.   0.   0.5  2.5 -1.  -1. ]]\n"
     ]
    }
   ],
   "source": [
    "c = RowAdd(b,2,1,1)\n",
    "print(c)"
   ]
  },
  {
   "cell_type": "code",
   "execution_count": 45,
   "metadata": {},
   "outputs": [
    {
     "name": "stdout",
     "output_type": "stream",
     "text": [
      "[[ 1.   1.   0.  -2.   1.   1. ]\n",
      " [ 0.   1.   0.   3.5 -1.5 -1. ]\n",
      " [ 0.   0.   0.5  2.5 -1.  -1. ]]\n"
     ]
    }
   ],
   "source": [
    "d = RowAdd(c,2,0,-1)\n",
    "print(d)"
   ]
  },
  {
   "cell_type": "code",
   "execution_count": 46,
   "metadata": {},
   "outputs": [
    {
     "name": "stdout",
     "output_type": "stream",
     "text": [
      "[[ 1.   1.   0.  -2.   1.   1. ]\n",
      " [ 0.   1.   0.   3.5 -1.5 -1. ]\n",
      " [ 0.   0.   1.   5.  -2.  -2. ]]\n"
     ]
    }
   ],
   "source": [
    "f = RowScale(d,2,2)\n",
    "print(f)"
   ]
  },
  {
   "cell_type": "code",
   "execution_count": 47,
   "metadata": {},
   "outputs": [
    {
     "name": "stdout",
     "output_type": "stream",
     "text": [
      "[[ 1.   0.   0.  -5.5  2.5  2. ]\n",
      " [ 0.   1.   0.   3.5 -1.5 -1. ]\n",
      " [ 0.   0.   1.   5.  -2.  -2. ]]\n"
     ]
    }
   ],
   "source": [
    "g = RowAdd(f,1,0,-1)\n",
    "print(g)"
   ]
  },
  {
   "cell_type": "code",
   "execution_count": 48,
   "metadata": {},
   "outputs": [
    {
     "name": "stdout",
     "output_type": "stream",
     "text": [
      "[[3.]\n",
      " [1.]\n",
      " [1.]]\n"
     ]
    }
   ],
   "source": [
    "b = np.array([[9],[17],[5]])\n",
    "\n",
    "c = np.array([[-5.5,2.5,2],[3.5,-1.5,-1],[5,-2,-2]])\n",
    "\n",
    "print(c@b)"
   ]
  },
  {
   "cell_type": "markdown",
   "metadata": {},
   "source": [
    "## penyelesaian sistem persamaan linier menggunakan matriks invers\n",
    "\n",
    "Persamaan dengan 4 variabel :\n",
    "\n",
    "$\n",
    "x_1 + x_2 + x_3 + x_4 = 6\\\\\n",
    "2x_1 + x_2 + 2x_3 + x_4 = 9\\\\\n",
    "3x_1 + 2x_2 + x_3 + 2x_4 = 13\\\\\n",
    "x_1 + 3x_2 + 3x_3 + 2x_4 = 12\n",
    "$\n",
    "\n",
    "$ A = \n",
    "\\begin{bmatrix}\n",
    "1 & 1 & 1 & 1\\\\\n",
    "2 & 1 & 2 & 1\\\\\n",
    "3 & 2 & 1 & 2\\\\\n",
    "1 & 3 & 3 & 2\n",
    "\\end{bmatrix}\n",
    "X =\n",
    "\\begin{bmatrix}\n",
    "x_1 \\\\\n",
    "x_2\\\\\n",
    "x_3\\\\\n",
    "x_4\n",
    "\\end{bmatrix}\n",
    "B = \n",
    "\\begin{bmatrix}\n",
    "6\\\\\n",
    "9\\\\\n",
    "13\\\\\n",
    "12\n",
    "\\end{bmatrix}\n",
    "$\n"
   ]
  },
  {
   "cell_type": "code",
   "execution_count": 49,
   "metadata": {},
   "outputs": [
    {
     "name": "stdout",
     "output_type": "stream",
     "text": [
      "[[1 1 1 1 1 0 0 0]\n",
      " [2 1 2 1 0 1 0 0]\n",
      " [3 2 1 2 0 0 1 0]\n",
      " [1 3 3 2 0 0 0 1]]\n"
     ]
    }
   ],
   "source": [
    "import numpy as np\n",
    "\n",
    "def RowSwap(A,k,l):\n",
    "# =============================================================================\n",
    "#     A is a NumPy array.  RowSwap will return duplicate array with rows\n",
    "#     k and l swapped.\n",
    "# =============================================================================\n",
    "    m = A.shape[0]  # m is number of rows in A\n",
    "    n = A.shape[1]  # n is number of columns in A\n",
    "\n",
    "    B = np.copy(A).astype('float64')\n",
    "\n",
    "    for j in range(n):\n",
    "        temp = B[k][j]\n",
    "        B[k][j] = B[l][j]\n",
    "        B[l][j] = temp\n",
    "\n",
    "    return B\n",
    "\n",
    "def RowScale(A,k,scale):\n",
    "# =============================================================================\n",
    "#     A is a NumPy array.  RowScale will return duplicate array with the\n",
    "#     entries of row k multiplied by scale.\n",
    "# =============================================================================\n",
    "    m = A.shape[0]  # m is number of rows in A\n",
    "    n = A.shape[1]  # n is number of columns in A\n",
    "\n",
    "    B = np.copy(A).astype('float64')\n",
    "\n",
    "    for j in range(n):\n",
    "        B[k][j] *= scale\n",
    "\n",
    "    return B\n",
    "\n",
    "def RowAdd(A,k,l,scale):\n",
    "# =============================================================================\n",
    "#     A is a numpy array.  RowAdd will return duplicate array with row\n",
    "#     l modifed.  The new values will be the old values of row l added to\n",
    "#     the values of row k, multiplied by scale.\n",
    "# =============================================================================\n",
    "    m = A.shape[0]  # m is number of rows in A\n",
    "    n = A.shape[1]  # n is number of columns in A\n",
    "\n",
    "    B = np.copy(A).astype('float64')\n",
    "\n",
    "    for j in range(n):\n",
    "        B[l][j] += B[k][j]*scale\n",
    "\n",
    "    return B\n",
    "\n",
    "a = np.array([[1,1,1,1,1,0,0,0],[2,1,2,1,0,1,0,0],[3,2,1,2,0,0,1,0],[1,3,3,2,0,0,0,1]])\n",
    "print(a)"
   ]
  },
  {
   "cell_type": "code",
   "execution_count": 64,
   "metadata": {},
   "outputs": [
    {
     "name": "stdout",
     "output_type": "stream",
     "text": [
      "[[ 1.  1.  1.  1.  1.  0.  0.  0.]\n",
      " [ 0. -1.  0. -1. -2.  1.  0.  0.]\n",
      " [ 3.  2.  1.  2.  0.  0.  1.  0.]\n",
      " [ 1.  3.  3.  2.  0.  0.  0.  1.]]\n"
     ]
    }
   ],
   "source": [
    "# Mengalikan -2 ke baris 0 dan menambahkan ke baris 1\n",
    "b = RowAdd(a,0,1,-2)\n",
    "print(b)"
   ]
  },
  {
   "cell_type": "code",
   "execution_count": 65,
   "metadata": {},
   "outputs": [
    {
     "name": "stdout",
     "output_type": "stream",
     "text": [
      "[[ 1.  1.  1.  1.  1.  0.  0.  0.]\n",
      " [ 0. -1.  0. -1. -2.  1.  0.  0.]\n",
      " [ 0. -1. -2. -1. -3.  0.  1.  0.]\n",
      " [ 1.  3.  3.  2.  0.  0.  0.  1.]]\n"
     ]
    }
   ],
   "source": [
    "# Mengalikan -3 ke baris 0 dan menambahkan ke baris 2\n",
    "c = RowAdd(b,0,2,-3)\n",
    "print(c)"
   ]
  },
  {
   "cell_type": "code",
   "execution_count": 66,
   "metadata": {},
   "outputs": [
    {
     "name": "stdout",
     "output_type": "stream",
     "text": [
      "[[ 1.  1.  1.  1.  1.  0.  0.  0.]\n",
      " [ 0. -1.  0. -1. -2.  1.  0.  0.]\n",
      " [ 0. -1. -2. -1. -3.  0.  1.  0.]\n",
      " [ 0.  2.  2.  1. -1.  0.  0.  1.]]\n"
     ]
    }
   ],
   "source": [
    "# Mengalikan -1 ke baris 0 dan menambahkan ke baris 3\n",
    "d = RowAdd(c,0,3,-1)\n",
    "print(d)"
   ]
  },
  {
   "cell_type": "code",
   "execution_count": 67,
   "metadata": {},
   "outputs": [
    {
     "name": "stdout",
     "output_type": "stream",
     "text": [
      "[[ 1.  1.  1.  1.  1.  0.  0.  0.]\n",
      " [ 0. -1.  0. -1. -2.  1.  0.  0.]\n",
      " [ 0. -1. -2. -1. -3.  0.  1.  0.]\n",
      " [ 0.  0.  2. -1. -5.  2.  0.  1.]]\n"
     ]
    }
   ],
   "source": [
    "# Mengalikan 2 ke baris 1 dan menambahkan ke baris 3\n",
    "e = RowAdd(d,1,3,2)\n",
    "print(e)"
   ]
  },
  {
   "cell_type": "code",
   "execution_count": 68,
   "metadata": {},
   "outputs": [
    {
     "name": "stdout",
     "output_type": "stream",
     "text": [
      "[[ 1.  1.  1.  1.  1.  0.  0.  0.]\n",
      " [ 0. -1.  0. -1. -2.  1.  0.  0.]\n",
      " [ 0.  0. -2.  0. -1. -1.  1.  0.]\n",
      " [ 0.  0.  2. -1. -5.  2.  0.  1.]]\n"
     ]
    }
   ],
   "source": [
    "# Mengalikan -1 ke baris 1 dan menambahkan ke baris 2\n",
    "f = RowAdd(e,1,2,-1)\n",
    "print(f)"
   ]
  },
  {
   "cell_type": "code",
   "execution_count": 69,
   "metadata": {},
   "outputs": [
    {
     "name": "stdout",
     "output_type": "stream",
     "text": [
      "[[ 1.  1.  1.  1.  1.  0.  0.  0.]\n",
      " [ 0. -1.  0. -1. -2.  1.  0.  0.]\n",
      " [ 0.  0. -2.  0. -1. -1.  1.  0.]\n",
      " [ 0.  0.  0. -1. -6.  1.  1.  1.]]\n"
     ]
    }
   ],
   "source": [
    "# Mengalikan 1 ke baris 2 dan menambahkan ke baris 3\n",
    "g = RowAdd(f,2,3,1)\n",
    "print(g)"
   ]
  },
  {
   "cell_type": "code",
   "execution_count": 70,
   "metadata": {},
   "outputs": [
    {
     "name": "stdout",
     "output_type": "stream",
     "text": [
      "[[ 1.   1.   1.   1.   1.   0.   0.   0. ]\n",
      " [ 0.  -1.   0.  -1.  -2.   1.   0.   0. ]\n",
      " [ 0.   0.  -1.   0.  -0.5 -0.5  0.5  0. ]\n",
      " [ 0.   0.   0.  -1.  -6.   1.   1.   1. ]]\n"
     ]
    }
   ],
   "source": [
    "# Mengalikan 0.5 ke baris 2\n",
    "h = RowScale(g,2,0.5)\n",
    "print(h)"
   ]
  },
  {
   "cell_type": "code",
   "execution_count": 71,
   "metadata": {},
   "outputs": [
    {
     "name": "stdout",
     "output_type": "stream",
     "text": [
      "[[ 1.   0.   1.   0.  -1.   1.   0.   0. ]\n",
      " [ 0.  -1.   0.  -1.  -2.   1.   0.   0. ]\n",
      " [ 0.   0.  -1.   0.  -0.5 -0.5  0.5  0. ]\n",
      " [ 0.   0.   0.  -1.  -6.   1.   1.   1. ]]\n"
     ]
    }
   ],
   "source": [
    "# Mengalikan 1 ke baris 1 dan menambahkan ke baris 0\n",
    "i = RowAdd(h,1,0,1)\n",
    "print(i)"
   ]
  },
  {
   "cell_type": "code",
   "execution_count": 72,
   "metadata": {},
   "outputs": [
    {
     "name": "stdout",
     "output_type": "stream",
     "text": [
      "[[ 1.   0.   0.   0.  -1.5  0.5  0.5  0. ]\n",
      " [ 0.  -1.   0.  -1.  -2.   1.   0.   0. ]\n",
      " [ 0.   0.  -1.   0.  -0.5 -0.5  0.5  0. ]\n",
      " [ 0.   0.   0.  -1.  -6.   1.   1.   1. ]]\n"
     ]
    }
   ],
   "source": [
    "# Mengalikan 1 ke baris 2 dan menambahkan ke baris 0\n",
    "j = RowAdd(i,2,0,1)\n",
    "print(j)"
   ]
  },
  {
   "cell_type": "code",
   "execution_count": 73,
   "metadata": {},
   "outputs": [
    {
     "name": "stdout",
     "output_type": "stream",
     "text": [
      "[[ 1.   0.   0.   0.  -1.5  0.5  0.5  0. ]\n",
      " [ 0.  -1.   0.   0.   4.   0.  -1.  -1. ]\n",
      " [ 0.   0.  -1.   0.  -0.5 -0.5  0.5  0. ]\n",
      " [ 0.   0.   0.  -1.  -6.   1.   1.   1. ]]\n"
     ]
    }
   ],
   "source": [
    "# Mengalikan -1 ke baris 3 dan menambahkan ke baris 1\n",
    "k = RowAdd(j,3,1,-1)\n",
    "print(k)"
   ]
  },
  {
   "cell_type": "code",
   "execution_count": 74,
   "metadata": {},
   "outputs": [
    {
     "name": "stdout",
     "output_type": "stream",
     "text": [
      "[[ 1.   0.   0.   0.  -1.5  0.5  0.5  0. ]\n",
      " [-0.   1.  -0.  -0.  -4.  -0.   1.   1. ]\n",
      " [ 0.   0.  -1.   0.  -0.5 -0.5  0.5  0. ]\n",
      " [ 0.   0.   0.  -1.  -6.   1.   1.   1. ]]\n"
     ]
    }
   ],
   "source": [
    "# Mengalikan -1 ke baris 1\n",
    "l = RowScale(k,1,-1)\n",
    "print(l)"
   ]
  },
  {
   "cell_type": "code",
   "execution_count": 75,
   "metadata": {},
   "outputs": [
    {
     "name": "stdout",
     "output_type": "stream",
     "text": [
      "[[ 1.   0.   0.   0.  -1.5  0.5  0.5  0. ]\n",
      " [-0.   1.  -0.  -0.  -4.  -0.   1.   1. ]\n",
      " [-0.  -0.   1.  -0.   0.5  0.5 -0.5 -0. ]\n",
      " [ 0.   0.   0.  -1.  -6.   1.   1.   1. ]]\n"
     ]
    }
   ],
   "source": [
    "# Mengalikan -1 ke baris 2\n",
    "m = RowScale(l,2,-1)\n",
    "print(m)"
   ]
  },
  {
   "cell_type": "code",
   "execution_count": 76,
   "metadata": {},
   "outputs": [
    {
     "name": "stdout",
     "output_type": "stream",
     "text": [
      "[[ 1.   0.   0.   0.  -1.5  0.5  0.5  0. ]\n",
      " [-0.   1.  -0.  -0.  -4.  -0.   1.   1. ]\n",
      " [-0.  -0.   1.  -0.   0.5  0.5 -0.5 -0. ]\n",
      " [-0.  -0.  -0.   1.   6.  -1.  -1.  -1. ]]\n"
     ]
    }
   ],
   "source": [
    "# Mengalikan -1 ke baris 3\n",
    "n = RowScale(m,3,-1)\n",
    "print(n)"
   ]
  },
  {
   "cell_type": "code",
   "execution_count": 63,
   "metadata": {},
   "outputs": [
    {
     "name": "stdout",
     "output_type": "stream",
     "text": [
      "[[2.]\n",
      " [1.]\n",
      " [1.]\n",
      " [2.]]\n"
     ]
    }
   ],
   "source": [
    "o = np.array([[6],[9],[13],[12]])\n",
    "p = np.array([[-1.5,0.5,0.5,0],[-4,-0,1,1],[0.5,0.5,-0.5,-0],[6,-1,-1,-1]])\n",
    "print(p @ o)"
   ]
  }
 ],
 "metadata": {
  "kernelspec": {
   "display_name": "Python 3 (ipykernel)",
   "language": "python",
   "name": "python3"
  }
 },
 "nbformat": 4,
 "nbformat_minor": 2
}
