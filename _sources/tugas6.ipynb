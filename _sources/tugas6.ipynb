{
 "cells": [
  {
   "cell_type": "markdown",
   "metadata": {},
   "source": [
    "# Transformasi Linier\n",
    "\n",
    "Transformasi Linier merupakan sebuah fungsi yang memetakan dari satu ruang vektor ke ruang vektor lain. \n",
    "Secara Umum, pemetaan (T) merupakan Transformasi Linier jika:\n",
    "\n",
    "1. T(u+v)=T(u)+T(v)\n",
    "2. T (αv) = αT (v)\n"
   ]
  },
  {
   "cell_type": "markdown",
   "metadata": {},
   "source": [
    "### Contoh Pembuktian bahwa \n",
    "### T(u+v)=T(u)+T(v)"
   ]
  },
  {
   "cell_type": "markdown",
   "metadata": {},
   "source": [
    "$\\vec{x}_1 = \\left [\\begin{array}{c} x_1 \\\\ y_1 \\\\ z_1 \\end{array}\\right ], \\vec{x}_2 = \\left [\\begin{array}{c} x_2 \\\\ y_2 \\\\ z_2 \\end{array}\\right ]\\nonumber$\n",
    "\n",
    "\n",
    "  $\\begin{aligned} T\\left( k \\vec{x}_1 + p \\vec{x}_2 \\right) &= T \\left( k \\left [\\begin{array}{c} x_1 \\\\ y_1 \\\\ z_1 \\end{array}\\right ] + p \\left [\\begin{array}{c} x_2 \\\\ y_2 \\\\ z_2 \\end{array}\\right ] \\right) \\\\ &= T \\left( \\left [\\begin{array}{c} kx_1 \\\\ ky_1 \\\\ kz_1 \\end{array}\\right ] + \\left [\\begin{array}{c} px_2 \\\\ py_2 \\\\ pz_2 \\end{array}\\right ] \\right) \\\\ &= T \\left( \\left [\\begin{array}{c} kx_1 + px_2 \\\\ ky_1 + py_2 \\\\ kz_1 + pz_2 \\end{array}\\right ] \\right) \\\\ &= \\left [\\begin{array}{c} (kx_1 + px_2) + (ky_1 + py_2) \\\\ (kx_1 + px_2)- (kz_1 + pz_2) \\end{array}\\right ] \\\\ &= \\left [\\begin{array}{c} (kx_1 + ky_1) + (px_2 + py_2) \\\\ (kx_1 - kz_1) + (px_2 - pz_2) \\end{array}\\right ] \\\\ &= \\left [\\begin{array}{c} kx_1 + ky_1 \\\\ kx_1 - kz_1 \\end{array}\\right ] + \\left [ \\begin{array}{c} px_2 + py_2 \\\\ px_2 - pz_2 \\end{array}\\right ] \\\\ &= k \\left [\\begin{array}{c} x_1 + y_1 \\\\ x_1 - z_1 \\end{array}\\right ] + p \\left [ \\begin{array}{c} x_2 + y_2 \\\\ x_2 - z_2 \\end{array}\\right ] \\\\ &= k T(\\vec{x}_1) + p T(\\vec{x}_2) \\end{aligned}\\nonumber$\n"
   ]
  },
  {
   "cell_type": "markdown",
   "metadata": {},
   "source": [
    "## Matriks Refleksi\n",
    "\n",
    "Matriks Refleksi adalah matriks yang mempresentasikan transformasi refleksi dalam ruang vektor. Refleksi adalah operasi yang memetakan setiap titik pada sebuah objek ke bayangannya terhadap suatu garis (2D), bidang (3D), atau hiperbidang (dimensi yang lebih tinggi)."
   ]
  },
  {
   "cell_type": "markdown",
   "metadata": {},
   "source": [
    "$ T \n",
    "\\begin{bmatrix}\n",
    "2\\\\\n",
    "0\n",
    "\\end{bmatrix}=\n",
    "\\begin{bmatrix}\n",
    "-2 \\\\\n",
    "0\n",
    "\\end{bmatrix},\n",
    "T \n",
    "\\begin{bmatrix}\n",
    "2\\\\\n",
    "2\n",
    "\\end{bmatrix}=\n",
    "\\begin{bmatrix}\n",
    "-2\\\\\n",
    "2\n",
    "\\end{bmatrix}\n",
    "$"
   ]
  },
  {
   "cell_type": "markdown",
   "metadata": {},
   "source": [
    "Menemukan tranformasi T pada basis $e_1$ atau\n",
    "pada $e_2$\n",
    "\n",
    "$\n",
    "\\begin{bmatrix}\n",
    "1\\\\\n",
    "0\n",
    "\\end{bmatrix}= \n",
    "X \\begin{bmatrix}\n",
    "2\\\\\n",
    "0\n",
    "\\end{bmatrix} +\n",
    "Y \\begin{bmatrix}\n",
    "2\\\\\n",
    "2\n",
    "\\end{bmatrix}\n",
    "$\n",
    "\n",
    "1/2 = x\n",
    "\n",
    "0 = y\n",
    "\n",
    "Lalu Karena T adalah linier maka dengan \n",
    "\n",
    "x = 1/2 dan y = 0 \n",
    "\n",
    "sehingga didapatkan\n",
    "\n",
    "$\n",
    "T\\begin{bmatrix}1\\\\ 0\\end{bmatrix}=xT\\begin{bmatrix}-2\\\\ 0\\end{bmatrix}+yT\\begin{bmatrix}-2\\\\ 2\\end{bmatrix}\n",
    "$\n",
    "\n",
    "$\n",
    "=\\frac{1}{2}\\begin{bmatrix}-2\\\\ 0\\end{bmatrix}+0\\begin{bmatrix}-2\\\\ 2\\end{bmatrix}\n",
    "$\n",
    "\n",
    "$\n",
    "=\\begin{bmatrix}-1\\\\ 0\\end{bmatrix}+\\begin{bmatrix}0\\\\ 0\\end{bmatrix}\n",
    "$\n",
    "\n",
    "$\n",
    "=\\begin{bmatrix}-1\\\\ 0\\end{bmatrix}\n",
    "$\n",
    "\n",
    "\n",
    "Oleh Karena itu \n",
    "$\\begin{bmatrix}-1\\\\ 0\\end{bmatrix}$\n",
    "adalah kolom pertama dari matriks A\n",
    "\n"
   ]
  },
  {
   "cell_type": "markdown",
   "metadata": {},
   "source": [
    "Dilakukan cara yang sama untuk mendapatkan kolom kedua dari matriks A.\n",
    "\n",
    "$\n",
    "\\begin{bmatrix}\n",
    "0\\\\\n",
    "1\n",
    "\\end{bmatrix}= \n",
    "X \\begin{bmatrix}\n",
    "2\\\\\n",
    "0\n",
    "\\end{bmatrix} +\n",
    "Y \\begin{bmatrix}\n",
    "2\\\\\n",
    "2\n",
    "\\end{bmatrix}\n",
    "$\n",
    "\n",
    "x = -1/2\n",
    "\n",
    "y = 1/2\n",
    "\n",
    "sehingga didapatkan :\n",
    "\n",
    "$\n",
    "T\\begin{bmatrix}0\\\\ 1\\end{bmatrix}=xT\\begin{bmatrix}-2\\\\ 0\\end{bmatrix}+yT\\begin{bmatrix}-2\\\\ 2\\end{bmatrix}\n",
    "$\n",
    "\n",
    "$\n",
    "=\\frac{-1}{2}\\begin{bmatrix}-2\\\\ 0\\end{bmatrix}+\\frac{1}{2}\\begin{bmatrix}-2\\\\ 2\\end{bmatrix}\n",
    "$\n",
    "\n",
    "$\n",
    "=\\begin{bmatrix}1\\\\ 0\\end{bmatrix}+\\begin{bmatrix}-1\\\\ 1\\end{bmatrix}\n",
    "$\n",
    "\n",
    "$\n",
    "=\\begin{bmatrix}0\\\\ 1\\end{bmatrix}\n",
    "$\n",
    "\n",
    "Sehingga didapatkan $\\begin{bmatrix}0\\\\ 1\\end{bmatrix}$\n",
    "adalah kolom kedua dari matriks A"
   ]
  },
  {
   "cell_type": "markdown",
   "metadata": {},
   "source": [
    "Setelah kolom pertama dan kolom kedua didapatkan maka matrik A adalah \n",
    "\n",
    "$ A =\n",
    "\\begin{bmatrix}\n",
    "-1 & 0\\\\\n",
    "0 & 1\n",
    "\\end{bmatrix}\n",
    "$"
   ]
  }
 ],
 "metadata": {
  "language_info": {
   "name": "python"
  }
 },
 "nbformat": 4,
 "nbformat_minor": 2
}
