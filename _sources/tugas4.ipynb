{
 "cells": [
  {
   "cell_type": "markdown",
   "metadata": {},
   "source": [
    "# Determinan"
   ]
  },
  {
   "cell_type": "markdown",
   "metadata": {},
   "source": [
    "Determinan merupakan ukuran skalar dari sebuah matriks. Determinan berlaku hanya untuk matriks bujur sangkar."
   ]
  },
  {
   "cell_type": "markdown",
   "metadata": {},
   "source": [
    "## Sifat-Sifat Determinan \n",
    "\n",
    "### 1. Detrminan dari matriks identitas adalah 1"
   ]
  },
  {
   "cell_type": "code",
   "execution_count": 2,
   "metadata": {
    "metadata": {}
   },
   "outputs": [
    {
     "name": "stdout",
     "output_type": "stream",
     "text": [
      "[[5 6]\n",
      " [9 8]] \n",
      "\n",
      "[[8 9 1]\n",
      " [1 2 3]\n",
      " [2 1 1]] \n",
      "\n",
      "[[1 0]\n",
      " [0 1]] \n",
      "\n",
      "[[1 0 0]\n",
      " [0 1 0]\n",
      " [0 0 1]]\n"
     ]
    }
   ],
   "source": [
    "import numpy as np\n",
    "from numpy import linalg as LA\n",
    "\n",
    "A = np.array ([[5,6],[9,8]])\n",
    "B = np.array([[8,9,1],[1,2,3],[2,1,1]])\n",
    "C = np.array([[1,0],[0,1]])\n",
    "D = np.array([[1,0,0],[0,1,0],[0,0,1]])\n",
    "\n",
    "print(A,'\\n')\n",
    "print(B,'\\n')\n",
    "print(C,'\\n')\n",
    "print(D)"
   ]
  },
  {
   "cell_type": "code",
   "execution_count": 3,
   "metadata": {
    "metadata": {}
   },
   "outputs": [
    {
     "name": "stdout",
     "output_type": "stream",
     "text": [
      "1.0\n",
      "1.0\n"
     ]
    }
   ],
   "source": [
    "print(np.linalg.det(C))\n",
    "print(np.linalg.det(D))"
   ]
  },
  {
   "cell_type": "markdown",
   "metadata": {},
   "source": [
    "### 2. Determinan matriks (AB) = det(A).det(B)"
   ]
  },
  {
   "cell_type": "code",
   "execution_count": 4,
   "metadata": {
    "metadata": {}
   },
   "outputs": [
    {
     "name": "stdout",
     "output_type": "stream",
     "text": [
      "[[3 5 1]\n",
      " [2 6 2]\n",
      " [1 3 1]] \n",
      "\n",
      "[[1 1 2]\n",
      " [1 1 3]\n",
      " [2 1 2]]\n"
     ]
    }
   ],
   "source": [
    "E = np.array ([[3,5,1],[2,6,2],[1,3,1]])\n",
    "F = np.array ([[1,1,2],[1,1,3],[2,1,2]])\n",
    "\n",
    "print(E,'\\n')\n",
    "print(F)"
   ]
  },
  {
   "cell_type": "code",
   "execution_count": 5,
   "metadata": {
    "metadata": {}
   },
   "outputs": [
    {
     "name": "stdout",
     "output_type": "stream",
     "text": [
      "[[10  9 23]\n",
      " [12 10 26]\n",
      " [ 6  5 13]] \n",
      "\n",
      "0.0\n"
     ]
    }
   ],
   "source": [
    "G = np.dot(E,F)\n",
    "print(G,'\\n')\n",
    "print(np.linalg.det(G))"
   ]
  },
  {
   "cell_type": "code",
   "execution_count": 6,
   "metadata": {
    "metadata": {}
   },
   "outputs": [
    {
     "name": "stdout",
     "output_type": "stream",
     "text": [
      "[[3 5 1]\n",
      " [2 6 2]\n",
      " [1 3 1]] \n",
      "\n",
      "determinan = 0\n"
     ]
    }
   ],
   "source": [
    "E = np.array ([[3,5,1],[2,6,2],[1,3,1]])\n",
    "print(E,'\\n')\n",
    "print(\"determinan =\",round(np.linalg.det(E)))"
   ]
  },
  {
   "cell_type": "code",
   "execution_count": 7,
   "metadata": {
    "metadata": {}
   },
   "outputs": [
    {
     "name": "stdout",
     "output_type": "stream",
     "text": [
      "[[1 1 2]\n",
      " [1 1 3]\n",
      " [2 1 2]] \n",
      "\n",
      "determinan = 1\n"
     ]
    }
   ],
   "source": [
    "F = np.array ([[1,1,2],[1,1,3],[2,1,2]])\n",
    "print(F,'\\n')\n",
    "print(\"determinan =\",round(np.linalg.det(F)))"
   ]
  },
  {
   "cell_type": "markdown",
   "metadata": {},
   "source": [
    "### 3. Menukar baris dari matrix akan mengubah tanda dari determinan"
   ]
  },
  {
   "cell_type": "code",
   "execution_count": 11,
   "metadata": {
    "metadata": {}
   },
   "outputs": [],
   "source": [
    "import numpy as np\n",
    "\n",
    "def RowSwap(A,k,l):\n",
    "# =============================================================================\n",
    "#     A is a NumPy array.  RowSwap will return duplicate array with rows\n",
    "#     k and l swapped.\n",
    "# =============================================================================\n",
    "    m = A.shape[0]  # m is number of rows in A\n",
    "    n = A.shape[1]  # n is number of columns in A\n",
    "\n",
    "    B = np.copy(A).astype('float64')\n",
    "\n",
    "    for j in range(n):\n",
    "        temp = B[k][j]\n",
    "        B[k][j] = B[l][j]\n",
    "        B[l][j] = temp\n",
    "\n",
    "    return B\n",
    "\n",
    "def RowScale(A,k,scale):\n",
    "# =============================================================================\n",
    "#     A is a NumPy array.  RowScale will return duplicate array with the\n",
    "#     entries of row k multiplied by scale.\n",
    "# =============================================================================\n",
    "    m = A.shape[0]  # m is number of rows in A\n",
    "    n = A.shape[1]  # n is number of columns in A\n",
    "\n",
    "    B = np.copy(A).astype('float64')\n",
    "\n",
    "    for j in range(n):\n",
    "        B[k][j] *= scale\n",
    "\n",
    "    return B\n",
    "\n",
    "def RowAdd(A,k,l,scale):\n",
    "# =============================================================================\n",
    "#     A is a numpy array.  RowAdd will return duplicate array with row\n",
    "#     l modifed.  The new values will be the old values of row l added to\n",
    "#     the values of row k, multiplied by scale.\n",
    "# =============================================================================\n",
    "    m = A.shape[0]  # m is number of rows in A\n",
    "    n = A.shape[1]  # n is number of columns in A\n",
    "\n",
    "    B = np.copy(A).astype('float64')\n",
    "\n",
    "    for j in range(n):\n",
    "        B[l][j] += B[k][j]*scale\n",
    "\n",
    "    return B"
   ]
  },
  {
   "cell_type": "code",
   "execution_count": 12,
   "metadata": {
    "metadata": {}
   },
   "outputs": [
    {
     "name": "stdout",
     "output_type": "stream",
     "text": [
      "[[1 4 2]\n",
      " [1 1 1]\n",
      " [3 2 1]] \n",
      "\n",
      "determinan = 5\n"
     ]
    }
   ],
   "source": [
    "A = np.array([[1,4,2],[1,1,1],[3,2,1]])\n",
    "print(A,'\\n')\n",
    "print(\"determinan =\",round(np.linalg.det(A)))"
   ]
  },
  {
   "cell_type": "code",
   "execution_count": 13,
   "metadata": {
    "metadata": {}
   },
   "outputs": [
    {
     "name": "stdout",
     "output_type": "stream",
     "text": [
      "[[1. 1. 1.]\n",
      " [1. 4. 2.]\n",
      " [3. 2. 1.]] \n",
      "\n",
      "determinan = -5\n"
     ]
    }
   ],
   "source": [
    "A1 = RowSwap(A,0,1)\n",
    "print(A1,'\\n')\n",
    "print(\"determinan =\",round(np.linalg.det(A1)))"
   ]
  },
  {
   "cell_type": "markdown",
   "metadata": {},
   "source": [
    "### 4. Jika baris atau dari matrix merupakan kelipatan dari barisatau kolom yang lain maka hasil detrminannya akan sama dengan 0"
   ]
  },
  {
   "cell_type": "code",
   "execution_count": 14,
   "metadata": {
    "metadata": {}
   },
   "outputs": [
    {
     "name": "stdout",
     "output_type": "stream",
     "text": [
      "[[1 4 2]\n",
      " [2 8 4]\n",
      " [3 2 1]] \n",
      "\n",
      "determinan = 0\n"
     ]
    }
   ],
   "source": [
    "A2 = np.array([[1,4,2],[2,8,4],[3,2,1]])\n",
    "print(A2,'\\n')\n",
    "print(\"determinan =\",round(np.linalg.det(A2)))"
   ]
  },
  {
   "cell_type": "code",
   "execution_count": 15,
   "metadata": {
    "metadata": {}
   },
   "outputs": [
    {
     "name": "stdout",
     "output_type": "stream",
     "text": [
      "[[1 4 2]\n",
      " [2 8 3]\n",
      " [1 4 1]] \n",
      "\n",
      "determinan = 0\n"
     ]
    }
   ],
   "source": [
    "A3 = np.array([[1,4,2],[2,8,3],[1,4,1]])\n",
    "print(A3,'\\n')\n",
    "print(\"determinan =\",round(np.linalg.det(A3)))"
   ]
  },
  {
   "cell_type": "markdown",
   "metadata": {},
   "source": [
    "### 5. Apabila determinan skalar k dan determinan matriks A dikalikan maka, det (kA) = k^n det(A)"
   ]
  },
  {
   "cell_type": "code",
   "execution_count": 16,
   "metadata": {
    "metadata": {}
   },
   "outputs": [
    {
     "name": "stdout",
     "output_type": "stream",
     "text": [
      "[[1 4 2]\n",
      " [1 1 1]\n",
      " [3 2 1]] \n",
      "\n",
      "determinan = 5 \n",
      "\n",
      "[[2 8 4]\n",
      " [2 2 2]\n",
      " [6 4 2]]\n"
     ]
    }
   ],
   "source": [
    "A = np.array([[1,4,2],[1,1,1],[3,2,1]])\n",
    "k = 2\n",
    "n = np.dot(A,k)\n",
    "print(A,'\\n')\n",
    "print(\"determinan =\",round(np.linalg.det(A)),'\\n')\n",
    "print(n)"
   ]
  },
  {
   "cell_type": "code",
   "execution_count": 17,
   "metadata": {
    "metadata": {}
   },
   "outputs": [
    {
     "name": "stdout",
     "output_type": "stream",
     "text": [
      "40\n"
     ]
    }
   ],
   "source": [
    "kA = np.dot(2**3,5)\n",
    "print(kA)"
   ]
  },
  {
   "cell_type": "code",
   "execution_count": 18,
   "metadata": {
    "metadata": {}
   },
   "outputs": [
    {
     "name": "stdout",
     "output_type": "stream",
     "text": [
      "determinan = 10 \n",
      "\n"
     ]
    }
   ],
   "source": [
    "A = np.array([[1,4,2],[1,1,1],[3,2,1]])\n",
    "B = np.array([[2,8,4],[1,1,1],[3,2,1]])\n",
    "\n",
    "print(\"determinan =\",round(np.linalg.det(B)),'\\n')"
   ]
  },
  {
   "cell_type": "markdown",
   "metadata": {},
   "source": [
    "## Matriks Segitiga Atas\n",
    "yaitu matriks yang nilai dibawah diagonal utama adalah 0\n",
    "\n",
    "maka hasil determinannya merupakan hasil perkalian dari setiap diagona"
   ]
  },
  {
   "cell_type": "code",
   "execution_count": 19,
   "metadata": {
    "metadata": {}
   },
   "outputs": [
    {
     "name": "stdout",
     "output_type": "stream",
     "text": [
      "[[2 3 1 2]\n",
      " [0 1 2 1]\n",
      " [0 0 5 2]\n",
      " [0 0 0 3]] \n",
      "\n",
      "determinan = 30\n"
     ]
    }
   ],
   "source": [
    "A = np.array([[2,3,1,2],[0,1,2,1],[0,0,5,2],[0,0,0,3]])\n",
    "print(A,'\\n')\n",
    "print(\"determinan =\",round(np.linalg.det(A)))"
   ]
  },
  {
   "cell_type": "markdown",
   "metadata": {},
   "source": [
    "Melakukan operasi pada matriks tidak merubah determinan pada matriks"
   ]
  },
  {
   "cell_type": "code",
   "execution_count": 20,
   "metadata": {
    "metadata": {}
   },
   "outputs": [
    {
     "name": "stdout",
     "output_type": "stream",
     "text": [
      "[[1 4 2]\n",
      " [1 1 1]\n",
      " [3 2 1]]\n"
     ]
    }
   ],
   "source": [
    "A = np.array([[1,4,2],[1,1,1],[3,2,1]])\n",
    "print(A)"
   ]
  },
  {
   "cell_type": "code",
   "execution_count": 21,
   "metadata": {
    "metadata": {}
   },
   "outputs": [
    {
     "name": "stdout",
     "output_type": "stream",
     "text": [
      "[[ 1.  4.  2.]\n",
      " [ 0. -3. -1.]\n",
      " [ 3.  2.  1.]]\n"
     ]
    }
   ],
   "source": [
    "A1 = RowAdd(A,0,1,-1)\n",
    "print(A1)"
   ]
  },
  {
   "cell_type": "code",
   "execution_count": 22,
   "metadata": {
    "metadata": {}
   },
   "outputs": [
    {
     "name": "stdout",
     "output_type": "stream",
     "text": [
      "determinan = 5\n"
     ]
    }
   ],
   "source": [
    "print(\"determinan =\",round(np.linalg.det(A1)))"
   ]
  },
  {
   "cell_type": "markdown",
   "metadata": {},
   "source": [
    "Determinan A transnpose sama dengan determinan A"
   ]
  },
  {
   "cell_type": "code",
   "execution_count": 23,
   "metadata": {
    "metadata": {}
   },
   "outputs": [
    {
     "name": "stdout",
     "output_type": "stream",
     "text": [
      "[[1 4 2]\n",
      " [1 1 1]\n",
      " [3 2 1]] \n",
      "\n",
      "determinan = 5 \n",
      "\n",
      "[[1 1 3]\n",
      " [4 1 2]\n",
      " [2 1 1]] \n",
      "\n",
      "determinan = 5\n"
     ]
    }
   ],
   "source": [
    "A = np.array([[1,4,2],[1,1,1],[3,2,1]])\n",
    "A_transpose = A.T\n",
    "print(A,'\\n')\n",
    "print(\"determinan =\",round(np.linalg.det(A)),'\\n')\n",
    "print(A_transpose,'\\n')\n",
    "print(\"determinan =\",round(np.linalg.det(A_transpose)))"
   ]
  },
  {
   "cell_type": "markdown",
   "metadata": {},
   "source": [
    "## Ekspansi Kofaktor \n",
    "Salah satu metode mencari detrminan matriks, dimana dalam metode ini memanfaatkan kofaktor.\n",
    "\n",
    "Pencarian determinan menggunakan metode ini tidak terbatas dengan satu ukuran matriks.\n",
    "\n",
    "Dengan kata lain, dapat dihitung matriks 3x3, 4x4, 5x5, dan seterusnya"
   ]
  },
  {
   "cell_type": "markdown",
   "metadata": {},
   "source": [
    "Contoh Menghitung determinan matriks 4 x 4 menggunakan ekspansi kofaktor"
   ]
  },
  {
   "cell_type": "markdown",
   "metadata": {},
   "source": [
    "$ A = \n",
    "\\begin{bmatrix}\n",
    "1 & 4 & 2 & 3\\\\\n",
    "0 & 1 & 4 & 4\\\\\n",
    "-1 & 0 & 1 & 1\\\\\n",
    "2 & 0 & 4 & 1\n",
    "\\end{bmatrix}\n",
    "$\n",
    "= a11c11 + a12c12 + a13c13 + a14c14"
   ]
  },
  {
   "cell_type": "markdown",
   "metadata": {},
   "source": [
    "$(-1)^{1+1} \n",
    "det = \n",
    "\\begin{bmatrix}\n",
    "1 & 4 & 4\\\\\n",
    "0 & 1 & 1 \\\\\n",
    "0 & 4 & 1\\\\\n",
    "\\end{bmatrix}\n",
    "$\n",
    "\n",
    "$(-1)^{1+2} \n",
    "det = \n",
    "\\begin{bmatrix}\n",
    "0 & 4 & 4\\\\\n",
    "-1 & 1 & 1 \\\\\n",
    "2 & 4 & 1\\\\\n",
    "\\end{bmatrix}\n",
    "$\n",
    "\n",
    "$(-1)^{1+3} \n",
    "det = \n",
    "\\begin{bmatrix}\n",
    "0 & 1 & 4\\\\\n",
    "-1 & 0 & 1 \\\\\n",
    "2 & 0 & 1\\\\\n",
    "\\end{bmatrix}\n",
    "$\n",
    "\n",
    "$(-1)^{1+4} \n",
    "det = \n",
    "\\begin{bmatrix}\n",
    "0 & 1 & 4\\\\\n",
    "-1 & 0 & 1 \\\\\n",
    "2 & 0 & 4\\\\\n",
    "\\end{bmatrix}\n",
    "$"
   ]
  },
  {
   "cell_type": "markdown",
   "metadata": {},
   "source": [
    "$\n",
    "c11 = \n",
    "\\begin{bmatrix}\n",
    "1 & 4 & 4\\\\\n",
    "0 & 1 & 1 \\\\\n",
    "0 & 4 & 1\\\\\n",
    "\\end{bmatrix}\n",
    "$"
   ]
  },
  {
   "cell_type": "markdown",
   "metadata": {},
   "source": [
    "$ 1.(-1)^{1+1} \n",
    "det = \n",
    "\\begin{bmatrix}\n",
    "1 & 1 \\\\\n",
    "4 & 1 \\\\\n",
    "\\end{bmatrix}\n",
    "$\n",
    "\n",
    "$ 4.(-1)^{1+2} \n",
    "det = \n",
    "\\begin{bmatrix}\n",
    "0 & 1 \\\\\n",
    "0 & 1 \\\\\n",
    "\\end{bmatrix}\n",
    "$\n",
    "\n",
    "$ 4.(-1)^{1+3} \n",
    "det = \n",
    "\\begin{bmatrix}\n",
    "0 & 1\\\\\n",
    "0 & 4 \\\\\n",
    "\\end{bmatrix}\n",
    "$\n",
    "\n",
    "c11 = 1 (1-4)-4(0-0)+4(0-0) \n",
    "    = -3"
   ]
  },
  {
   "cell_type": "markdown",
   "metadata": {},
   "source": [
    "$\n",
    "c12 = \n",
    "\\begin{bmatrix}\n",
    "0 & 4 & 4\\\\\n",
    "-1 & 1 & 1 \\\\\n",
    "2 & 4 & 1\\\\\n",
    "\\end{bmatrix}\n",
    "$"
   ]
  },
  {
   "cell_type": "markdown",
   "metadata": {},
   "source": [
    "$ 0.(-1)^{1+1} \n",
    "det = \n",
    "\\begin{bmatrix}\n",
    "1 & 1 \\\\\n",
    "4 & 1 \\\\\n",
    "\\end{bmatrix}\n",
    "$\n",
    "\n",
    "$ 4.(-1)^{1+2} \n",
    "det = \n",
    "\\begin{bmatrix}\n",
    "-1 & 1 \\\\\n",
    "2 & 1 \\\\\n",
    "\\end{bmatrix}\n",
    "$\n",
    "\n",
    "$ 4.(-1)^{1+3} \n",
    "det = \n",
    "\\begin{bmatrix}\n",
    "-1 & 1\\\\\n",
    "2 & 4 \\\\\n",
    "\\end{bmatrix}\n",
    "$\n",
    "\n",
    "c12 = 0(1-4)-4(-1-2)+4(-4-2)\n",
    "    = -12"
   ]
  },
  {
   "cell_type": "markdown",
   "metadata": {},
   "source": [
    "$\n",
    "c13 = \n",
    "\\begin{bmatrix}\n",
    "0 & 1 & 4\\\\\n",
    "-1 & 0 & 1 \\\\\n",
    "2 & 0 & 1\\\\\n",
    "\\end{bmatrix}\n",
    "$"
   ]
  },
  {
   "cell_type": "markdown",
   "metadata": {},
   "source": [
    "$ 0.(-1)^{1+1} \n",
    "det = \n",
    "\\begin{bmatrix}\n",
    "0 & 1 \\\\\n",
    "0 & 1 \\\\\n",
    "\\end{bmatrix}\n",
    "$\n",
    "\n",
    "$ 1.(-1)^{1+2} \n",
    "det = \n",
    "\\begin{bmatrix}\n",
    "-1 & 1 \\\\\n",
    "2 & 1 \\\\\n",
    "\\end{bmatrix}\n",
    "$\n",
    "\n",
    "$ 4.(-1)^{1+3} \n",
    "det = \n",
    "\\begin{bmatrix}\n",
    "-1 & 0\\\\\n",
    "2 & 0 \\\\\n",
    "\\end{bmatrix}\n",
    "$\n",
    "\n",
    "c13 = 0(0-0)-1(1-2)+4(0-2)\n",
    "    = 3"
   ]
  },
  {
   "cell_type": "markdown",
   "metadata": {},
   "source": [
    "$\n",
    "c14 = \n",
    "\\begin{bmatrix}\n",
    "0 & 1 & 4\\\\\n",
    "-1 & 0 & 1 \\\\\n",
    "2 & 0 & 4\\\\\n",
    "\\end{bmatrix}\n",
    "$"
   ]
  },
  {
   "cell_type": "markdown",
   "metadata": {},
   "source": [
    "$ 0.(-1)^{1+1} \n",
    "det = \n",
    "\\begin{bmatrix}\n",
    "0 & 1 \\\\\n",
    "0 & 4 \\\\\n",
    "\\end{bmatrix}\n",
    "$\n",
    "\n",
    "$ 1.(-1)^{1+2} \n",
    "det = \n",
    "\\begin{bmatrix}\n",
    "-1 & 1 \\\\\n",
    "2 & 4 \\\\\n",
    "\\end{bmatrix}\n",
    "$\n",
    "\n",
    "$ 4.(-1)^{1+3} \n",
    "det = \n",
    "\\begin{bmatrix}\n",
    "-1 & 0\\\\\n",
    "2 & 0 \\\\\n",
    "\\end{bmatrix}\n",
    "$\n",
    "\n",
    "c14 = 0(0-0)-1(-4-2)+4(0-0)\n",
    "    = 6"
   ]
  },
  {
   "cell_type": "markdown",
   "metadata": {},
   "source": [
    "$ A = \n",
    "\\begin{bmatrix}\n",
    "1 & 4 & 2 & 3\\\\\n",
    "0 & 1 & 4 & 4\\\\\n",
    "-1 & 0 & 1 & 1\\\\\n",
    "2 & 0 & 4 & 1\n",
    "\\end{bmatrix}\n",
    "$\n",
    "\n",
    "= a11c11 + a12c12 + a13c13 + a14c14\n",
    "\n",
    "= 1.(-3)-4(-12)+2(3)-3(6)\n",
    "\n",
    "= -3 + 48 + 6 - 18\n",
    "\n",
    "= 33"
   ]
  }
 ],
 "metadata": {
  "kernelspec": {
   "display_name": "Python 3 (ipykernel)",
   "language": "python",
   "name": "python3"
  }
 },
 "nbformat": 4,
 "nbformat_minor": 2
}
